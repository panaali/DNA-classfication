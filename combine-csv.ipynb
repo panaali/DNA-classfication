{
 "cells": [
  {
   "cell_type": "code",
   "execution_count": 72,
   "metadata": {},
   "outputs": [],
   "source": [
    "import pandas as pd\n",
    "import numpy as np\n",
    "import glob\n",
    "import matplotlib.pyplot as plt"
   ]
  },
  {
   "cell_type": "code",
   "execution_count": 10,
   "metadata": {},
   "outputs": [
    {
     "data": {
      "text/html": [
       "<div>\n",
       "<style scoped>\n",
       "    .dataframe tbody tr th:only-of-type {\n",
       "        vertical-align: middle;\n",
       "    }\n",
       "\n",
       "    .dataframe tbody tr th {\n",
       "        vertical-align: top;\n",
       "    }\n",
       "\n",
       "    .dataframe thead th {\n",
       "        text-align: right;\n",
       "    }\n",
       "</style>\n",
       "<table border=\"1\" class=\"dataframe\">\n",
       "  <thead>\n",
       "    <tr style=\"text-align: right;\">\n",
       "      <th></th>\n",
       "      <th>0</th>\n",
       "      <th>1</th>\n",
       "    </tr>\n",
       "  </thead>\n",
       "  <tbody>\n",
       "    <tr>\n",
       "      <th>0</th>\n",
       "      <td>salp:111975629</td>\n",
       "      <td>atggcagtggcaggtaaaaatgactttgcagttctcaacaccgggc...</td>\n",
       "    </tr>\n",
       "    <tr>\n",
       "      <th>1</th>\n",
       "      <td>salt:AO058_14645</td>\n",
       "      <td>atgaaaacattaaagtttaagaacggtgatgaaatgccggccatag...</td>\n",
       "    </tr>\n",
       "    <tr>\n",
       "      <th>2</th>\n",
       "      <td>sanh:107692407</td>\n",
       "      <td>atgcagcatattcaacgtgctctgcgtcttgtcattcattctcaca...</td>\n",
       "    </tr>\n",
       "    <tr>\n",
       "      <th>3</th>\n",
       "      <td>sasa:106584055</td>\n",
       "      <td>atggcagtggcaggtaaaaatgactttgctgttctcaacaccgggc...</td>\n",
       "    </tr>\n",
       "    <tr>\n",
       "      <th>4</th>\n",
       "      <td>sbi:8061760</td>\n",
       "      <td>atggctgaatcctttgttctcaataccggcgcgaggatcccatcgg...</td>\n",
       "    </tr>\n",
       "  </tbody>\n",
       "</table>\n",
       "</div>"
      ],
      "text/plain": [
       "                  0                                                  1\n",
       "0    salp:111975629  atggcagtggcaggtaaaaatgactttgcagttctcaacaccgggc...\n",
       "1  salt:AO058_14645  atgaaaacattaaagtttaagaacggtgatgaaatgccggccatag...\n",
       "2    sanh:107692407  atgcagcatattcaacgtgctctgcgtcttgtcattcattctcaca...\n",
       "3    sasa:106584055  atggcagtggcaggtaaaaatgactttgctgttctcaacaccgggc...\n",
       "4       sbi:8061760  atggctgaatcctttgttctcaataccggcgcgaggatcccatcgg..."
      ]
     },
     "execution_count": 10,
     "metadata": {},
     "output_type": "execute_result"
    }
   ],
   "source": [
    "df = pd.read_csv('sequence_csv/1.1.1.2_test.csv', header=None);"
   ]
  },
  {
   "cell_type": "code",
   "execution_count": 58,
   "metadata": {},
   "outputs": [],
   "source": [
    "df_all = pd.DataFrame()\n",
    "for file_name in glob.glob('./sequence_csv/*'):\n",
    "    df = pd.read_csv(file_name, header=None, names=['KEGG', 'Text']);\n",
    "    is_test = 'test' in file_name\n",
    "    class_name = file_name.split('/')[-1].replace('_train.csv','').replace('_test.csv','')\n",
    "    df['is_test'] = is_test\n",
    "    df['class'] = class_name\n",
    "    df_all = pd.concat([df_all, df])\n",
    "# df_all.sample(n=10)"
   ]
  },
  {
   "cell_type": "code",
   "execution_count": 118,
   "metadata": {},
   "outputs": [],
   "source": [
    "def add_organism(row):\n",
    "    row['KEGG_Organism'] = row['KEGG'].split(':')[0]\n",
    "    row['KEGG_Gene'] = row['KEGG'].split(':')[1]\n",
    "    return row\n",
    "\n",
    "df_all = df_all.apply(lambda row: add_organism(row), axis=1)"
   ]
  },
  {
   "cell_type": "code",
   "execution_count": 119,
   "metadata": {},
   "outputs": [
    {
     "data": {
      "text/html": [
       "<div>\n",
       "<style scoped>\n",
       "    .dataframe tbody tr th:only-of-type {\n",
       "        vertical-align: middle;\n",
       "    }\n",
       "\n",
       "    .dataframe tbody tr th {\n",
       "        vertical-align: top;\n",
       "    }\n",
       "\n",
       "    .dataframe thead th {\n",
       "        text-align: right;\n",
       "    }\n",
       "</style>\n",
       "<table border=\"1\" class=\"dataframe\">\n",
       "  <thead>\n",
       "    <tr style=\"text-align: right;\">\n",
       "      <th></th>\n",
       "      <th>KEGG</th>\n",
       "      <th>Text</th>\n",
       "      <th>is_test</th>\n",
       "      <th>class</th>\n",
       "      <th>KEGG_Organism</th>\n",
       "      <th>KEGG_Gene</th>\n",
       "    </tr>\n",
       "  </thead>\n",
       "  <tbody>\n",
       "    <tr>\n",
       "      <th>2115</th>\n",
       "      <td>ctes:O987_19835</td>\n",
       "      <td>atgaacccaaggaataagccccccaccaccagcctgtgcacgcata...</td>\n",
       "      <td>False</td>\n",
       "      <td>citrite_Si_synthase</td>\n",
       "      <td>ctes</td>\n",
       "      <td>O987_19835</td>\n",
       "    </tr>\n",
       "    <tr>\n",
       "      <th>4840</th>\n",
       "      <td>lve:103072605</td>\n",
       "      <td>atgcctgaaaaaggattagcaaaatcttcacctgtcagggtacagc...</td>\n",
       "      <td>False</td>\n",
       "      <td>alcohol_dehydrogenase</td>\n",
       "      <td>lve</td>\n",
       "      <td>103072605</td>\n",
       "    </tr>\n",
       "    <tr>\n",
       "      <th>894</th>\n",
       "      <td>bwd:CT694_29030</td>\n",
       "      <td>atgaaagaaattcaagttggtttattaggtcttgggacagttggga...</td>\n",
       "      <td>False</td>\n",
       "      <td>1.1.1.3</td>\n",
       "      <td>bwd</td>\n",
       "      <td>CT694_29030</td>\n",
       "    </tr>\n",
       "    <tr>\n",
       "      <th>7061</th>\n",
       "      <td>rtr:RTCIAT899_PC05295</td>\n",
       "      <td>atggacgtaagagcagcggtcgcggttgcggctggcaagccgcttg...</td>\n",
       "      <td>False</td>\n",
       "      <td>alcohol_dehydrogenase</td>\n",
       "      <td>rtr</td>\n",
       "      <td>RTCIAT899_PC05295</td>\n",
       "    </tr>\n",
       "    <tr>\n",
       "      <th>5718</th>\n",
       "      <td>pavi:110770701</td>\n",
       "      <td>atgggaaaccaaggttttctatcaaagggactcccattaatcactt...</td>\n",
       "      <td>False</td>\n",
       "      <td>alcohol_dehydrogenase</td>\n",
       "      <td>pavi</td>\n",
       "      <td>110770701</td>\n",
       "    </tr>\n",
       "    <tr>\n",
       "      <th>6332</th>\n",
       "      <td>ppsy:AOC04_15035</td>\n",
       "      <td>atgatcaagtcacgtgctgccgtagccttcgaggccaaaaaaccgc...</td>\n",
       "      <td>False</td>\n",
       "      <td>alcohol_dehydrogenase</td>\n",
       "      <td>ppsy</td>\n",
       "      <td>AOC04_15035</td>\n",
       "    </tr>\n",
       "    <tr>\n",
       "      <th>1906</th>\n",
       "      <td>bsi:BS1330_I0848</td>\n",
       "      <td>atgcgcgccttgcagcttctcgatgatcgccgccttgaaatcaccg...</td>\n",
       "      <td>False</td>\n",
       "      <td>alcohol_dehydrogenase</td>\n",
       "      <td>bsi</td>\n",
       "      <td>BS1330_I0848</td>\n",
       "    </tr>\n",
       "    <tr>\n",
       "      <th>5130</th>\n",
       "      <td>ppr:PBPRA1043</td>\n",
       "      <td>ttgacatttgggctaacgaaaggtacaacaaaaggaggtccgtatt...</td>\n",
       "      <td>False</td>\n",
       "      <td>citrite_Si_synthase</td>\n",
       "      <td>ppr</td>\n",
       "      <td>PBPRA1043</td>\n",
       "    </tr>\n",
       "    <tr>\n",
       "      <th>433</th>\n",
       "      <td>sphc:CVN68_12715</td>\n",
       "      <td>atgaccgaaccgcttcgtatcgcactcgccggcctcggaaccgtgg...</td>\n",
       "      <td>True</td>\n",
       "      <td>1.1.1.3</td>\n",
       "      <td>sphc</td>\n",
       "      <td>CVN68_12715</td>\n",
       "    </tr>\n",
       "    <tr>\n",
       "      <th>3347</th>\n",
       "      <td>kra:Krad_1140</td>\n",
       "      <td>gtgttgggcaccgtcgacgggggcgggtacggtcgcgacatggctg...</td>\n",
       "      <td>False</td>\n",
       "      <td>citrite_Si_synthase</td>\n",
       "      <td>kra</td>\n",
       "      <td>Krad_1140</td>\n",
       "    </tr>\n",
       "  </tbody>\n",
       "</table>\n",
       "</div>"
      ],
      "text/plain": [
       "                       KEGG  \\\n",
       "2115        ctes:O987_19835   \n",
       "4840          lve:103072605   \n",
       "894         bwd:CT694_29030   \n",
       "7061  rtr:RTCIAT899_PC05295   \n",
       "5718         pavi:110770701   \n",
       "6332       ppsy:AOC04_15035   \n",
       "1906       bsi:BS1330_I0848   \n",
       "5130          ppr:PBPRA1043   \n",
       "433        sphc:CVN68_12715   \n",
       "3347          kra:Krad_1140   \n",
       "\n",
       "                                                   Text  is_test  \\\n",
       "2115  atgaacccaaggaataagccccccaccaccagcctgtgcacgcata...    False   \n",
       "4840  atgcctgaaaaaggattagcaaaatcttcacctgtcagggtacagc...    False   \n",
       "894   atgaaagaaattcaagttggtttattaggtcttgggacagttggga...    False   \n",
       "7061  atggacgtaagagcagcggtcgcggttgcggctggcaagccgcttg...    False   \n",
       "5718  atgggaaaccaaggttttctatcaaagggactcccattaatcactt...    False   \n",
       "6332  atgatcaagtcacgtgctgccgtagccttcgaggccaaaaaaccgc...    False   \n",
       "1906  atgcgcgccttgcagcttctcgatgatcgccgccttgaaatcaccg...    False   \n",
       "5130  ttgacatttgggctaacgaaaggtacaacaaaaggaggtccgtatt...    False   \n",
       "433   atgaccgaaccgcttcgtatcgcactcgccggcctcggaaccgtgg...     True   \n",
       "3347  gtgttgggcaccgtcgacgggggcgggtacggtcgcgacatggctg...    False   \n",
       "\n",
       "                      class KEGG_Organism          KEGG_Gene  \n",
       "2115    citrite_Si_synthase          ctes         O987_19835  \n",
       "4840  alcohol_dehydrogenase           lve          103072605  \n",
       "894                 1.1.1.3           bwd        CT694_29030  \n",
       "7061  alcohol_dehydrogenase           rtr  RTCIAT899_PC05295  \n",
       "5718  alcohol_dehydrogenase          pavi          110770701  \n",
       "6332  alcohol_dehydrogenase          ppsy        AOC04_15035  \n",
       "1906  alcohol_dehydrogenase           bsi       BS1330_I0848  \n",
       "5130    citrite_Si_synthase           ppr          PBPRA1043  \n",
       "433                 1.1.1.3          sphc        CVN68_12715  \n",
       "3347    citrite_Si_synthase           kra          Krad_1140  "
      ]
     },
     "execution_count": 119,
     "metadata": {},
     "output_type": "execute_result"
    }
   ],
   "source": [
    "df_all.sample(n=10)"
   ]
  },
  {
   "cell_type": "code",
   "execution_count": 120,
   "metadata": {},
   "outputs": [],
   "source": [
    "df_all.to_csv('combined.csv')"
   ]
  },
  {
   "cell_type": "code",
   "execution_count": 69,
   "metadata": {},
   "outputs": [
    {
     "data": {
      "text/plain": [
       "(19.99623706491063, 80.00376293508937)"
      ]
     },
     "execution_count": 69,
     "metadata": {},
     "output_type": "execute_result"
    }
   ],
   "source": [
    "# Test, Train Split\n",
    "np.sum(df_all['is_test'] == True) / len(df_all) * 100, np.sum(df_all['is_test'] == False) / len(df_all) * 100"
   ]
  },
  {
   "cell_type": "code",
   "execution_count": 113,
   "metadata": {},
   "outputs": [],
   "source": [
    "# Number of samples in each class\n",
    "class_sizes = df_all.groupby(['class']).size()\n",
    "class_sizes = class_sizes / sum(class_sizes)"
   ]
  },
  {
   "cell_type": "code",
   "execution_count": 114,
   "metadata": {},
   "outputs": [
    {
     "data": {
      "image/png": "[encoded data removed]",
      "text/plain": [
       "<Figure size 432x288 with 1 Axes>"
      ]
     },
     "metadata": {},
     "output_type": "display_data"
    }
   ],
   "source": [
    "plt.bar(class_sizes.keys(), height=class_sizes.values)\n",
    "plt.xticks(rotation='vertical')\n",
    "plt.show()"
   ]
  },
  {
   "cell_type": "code",
   "execution_count": 175,
   "metadata": {},
   "outputs": [
    {
     "name": "stdout",
     "output_type": "stream",
     "text": [
      "Number of organizms: 5477\n",
      "Number of samples per organizm:\n"
     ]
    },
    {
     "data": {
      "text/plain": [
       "KEGG_Organism\n",
       "bna     133\n",
       "csat    119\n",
       "psom     77\n",
       "han      70\n",
       "nta      69\n",
       "cmax     67\n",
       "boe      63\n",
       "gmx      62\n",
       "ghi      62\n",
       "brp      60\n",
       "dtype: int64"
      ]
     },
     "execution_count": 175,
     "metadata": {},
     "output_type": "execute_result"
    }
   ],
   "source": [
    "organizms_sizes = df_all.groupby(['KEGG_Organism']).size().sort_values(ascending=False)\n",
    "print('Number of organizms:', len(organizms_sizes))\n",
    "print('Number of samples per organizm:')\n",
    "organizms_sizes.head(10)"
   ]
  },
  {
   "cell_type": "code",
   "execution_count": 176,
   "metadata": {},
   "outputs": [
    {
     "data": {
      "image/png": "[encoded data removed]",
      "text/plain": [
       "<Figure size 432x288 with 1 Axes>"
      ]
     },
     "metadata": {},
     "output_type": "display_data"
    }
   ],
   "source": [
    "organizms_pos = [i for i, _ in enumerate(organizms_sizes)]\n",
    "plt.plot(organizms_pos, organizms_sizes.values, )\n",
    "plt.xticks(rotation='vertical')\n",
    "plt.show()"
   ]
  },
  {
   "cell_type": "code",
   "execution_count": null,
   "metadata": {},
   "outputs": [],
   "source": []
  }
 ],
 "metadata": {
  "kernelspec": {
   "display_name": "Python 3",
   "language": "python",
   "name": "python3"
  },
  "language_info": {
   "codemirror_mode": {
    "name": "ipython",
    "version": 3
   },
   "file_extension": ".py",
   "mimetype": "text/x-python",
   "name": "python",
   "nbconvert_exporter": "python",
   "pygments_lexer": "ipython3",
   "version": "3.7.3"
  }
 },
 "nbformat": 4,
 "nbformat_minor": 2
}
